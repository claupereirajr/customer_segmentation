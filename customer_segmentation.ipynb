{
 "cells": [
  {
   "attachments": {},
   "cell_type": "markdown",
   "metadata": {},
   "source": [
    "### Customer Segmentation"
   ]
  },
  {
   "attachments": {},
   "cell_type": "markdown",
   "metadata": {},
   "source": [
    "### Prep"
   ]
  },
  {
   "cell_type": "code",
   "execution_count": 1,
   "metadata": {},
   "outputs": [],
   "source": [
    "import pandas as pd\n",
    "import numpy as np\n",
    "import scipy as sc\n",
    "import seaborn as sns\n",
    "import matplotlib.pyplot as plt"
   ]
  },
  {
   "attachments": {},
   "cell_type": "markdown",
   "metadata": {},
   "source": [
    "Import dataset"
   ]
  },
  {
   "cell_type": "code",
   "execution_count": 2,
   "metadata": {},
   "outputs": [],
   "source": [
    "df = pd.read_parquet('df.parquet')"
   ]
  },
  {
   "cell_type": "code",
   "execution_count": 3,
   "metadata": {},
   "outputs": [],
   "source": [
    "df.dtypes\n",
    "df = df.convert_dtypes('convert_integer=age')"
   ]
  },
  {
   "cell_type": "code",
   "execution_count": 4,
   "metadata": {},
   "outputs": [],
   "source": [
    "df.fillna(value='None', inplace=True)"
   ]
  },
  {
   "attachments": {},
   "cell_type": "markdown",
   "metadata": {},
   "source": [
    "### EDA"
   ]
  },
  {
   "cell_type": "code",
   "execution_count": 5,
   "metadata": {},
   "outputs": [
    {
     "data": {
      "text/html": [
       "<div>\n",
       "<style scoped>\n",
       "    .dataframe tbody tr th:only-of-type {\n",
       "        vertical-align: middle;\n",
       "    }\n",
       "\n",
       "    .dataframe tbody tr th {\n",
       "        vertical-align: top;\n",
       "    }\n",
       "\n",
       "    .dataframe thead th {\n",
       "        text-align: right;\n",
       "    }\n",
       "</style>\n",
       "<table border=\"1\" class=\"dataframe\">\n",
       "  <thead>\n",
       "    <tr style=\"text-align: right;\">\n",
       "      <th></th>\n",
       "      <th>orderID</th>\n",
       "      <th>orderDate</th>\n",
       "      <th>clienteID</th>\n",
       "      <th>CEP</th>\n",
       "      <th>estado</th>\n",
       "      <th>bairro</th>\n",
       "      <th>cidade</th>\n",
       "      <th>rua</th>\n",
       "      <th>numero</th>\n",
       "      <th>endereco</th>\n",
       "      <th>gender</th>\n",
       "      <th>age</th>\n",
       "      <th>plataform</th>\n",
       "      <th>total</th>\n",
       "      <th>cupon</th>\n",
       "    </tr>\n",
       "  </thead>\n",
       "  <tbody>\n",
       "    <tr>\n",
       "      <th>0</th>\n",
       "      <td>1</td>\n",
       "      <td>24/11/2022 19:03</td>\n",
       "      <td>b23d4264-b084-4b5f-b341-fb1775b0a2f9</td>\n",
       "      <td>81650130</td>\n",
       "      <td>PR</td>\n",
       "      <td>Boqueirão</td>\n",
       "      <td>Curitiba</td>\n",
       "      <td>Rua São Pedro</td>\n",
       "      <td>821</td>\n",
       "      <td>Rua São Pedro, 821 - Boqueirão, Curitiba - PR,...</td>\n",
       "      <td>Female</td>\n",
       "      <td>23</td>\n",
       "      <td>app</td>\n",
       "      <td>134.56</td>\n",
       "      <td>None</td>\n",
       "    </tr>\n",
       "    <tr>\n",
       "      <th>1</th>\n",
       "      <td>2</td>\n",
       "      <td>26/02/2022 11:57</td>\n",
       "      <td>eec8a486-7373-4d7d-a859-750455fd190c</td>\n",
       "      <td>80240150</td>\n",
       "      <td>PR</td>\n",
       "      <td>Água Verde</td>\n",
       "      <td>Curitiba</td>\n",
       "      <td>Travessa Lange</td>\n",
       "      <td>211</td>\n",
       "      <td>Travessa Lange, 211 - Água Verde, Curitiba - P...</td>\n",
       "      <td>Female</td>\n",
       "      <td>35</td>\n",
       "      <td>android</td>\n",
       "      <td>1242.82</td>\n",
       "      <td>VERAOOFF15</td>\n",
       "    </tr>\n",
       "    <tr>\n",
       "      <th>2</th>\n",
       "      <td>3</td>\n",
       "      <td>13/05/2022 10:40</td>\n",
       "      <td>33bde395-65fa-43aa-bb9b-90b8e9e4bbba</td>\n",
       "      <td>82220416</td>\n",
       "      <td>PR</td>\n",
       "      <td>Cachoeira</td>\n",
       "      <td>Curitiba</td>\n",
       "      <td>Rua Rolando Salin Zappa Mansur</td>\n",
       "      <td>549</td>\n",
       "      <td>Rua Rolando Salin Zappa Mansur, 549 - Cachoeir...</td>\n",
       "      <td>Female</td>\n",
       "      <td>29</td>\n",
       "      <td>android</td>\n",
       "      <td>1118.59</td>\n",
       "      <td>FOX5POR3</td>\n",
       "    </tr>\n",
       "    <tr>\n",
       "      <th>3</th>\n",
       "      <td>4</td>\n",
       "      <td>16/08/2022 12:17</td>\n",
       "      <td>9f95c07d-d9e3-45d4-835e-a0dbc87d22ac</td>\n",
       "      <td>82220360</td>\n",
       "      <td>PR</td>\n",
       "      <td>Cachoeira</td>\n",
       "      <td>Curitiba</td>\n",
       "      <td>Rua Maria Lenk</td>\n",
       "      <td>546</td>\n",
       "      <td>Rua Maria Lenk, 546 - Cachoeira, Curitiba - PR...</td>\n",
       "      <td>Male</td>\n",
       "      <td>21</td>\n",
       "      <td>ios</td>\n",
       "      <td>1384.44</td>\n",
       "      <td>None</td>\n",
       "    </tr>\n",
       "    <tr>\n",
       "      <th>4</th>\n",
       "      <td>5</td>\n",
       "      <td>07/10/2022 09:52</td>\n",
       "      <td>6095ef93-3172-4a95-838e-5fa7f2ddb108</td>\n",
       "      <td>80230972</td>\n",
       "      <td>PR</td>\n",
       "      <td>Rebouças</td>\n",
       "      <td>Curitiba</td>\n",
       "      <td>Rua João Negrão</td>\n",
       "      <td>353</td>\n",
       "      <td>Rua João Negrão, 353 - Rebouças, Curitiba - PR...</td>\n",
       "      <td>Female</td>\n",
       "      <td>30</td>\n",
       "      <td>safari</td>\n",
       "      <td>357.6</td>\n",
       "      <td>None</td>\n",
       "    </tr>\n",
       "  </tbody>\n",
       "</table>\n",
       "</div>"
      ],
      "text/plain": [
       "   orderID         orderDate                             clienteID       CEP  \\\n",
       "0        1  24/11/2022 19:03  b23d4264-b084-4b5f-b341-fb1775b0a2f9  81650130   \n",
       "1        2  26/02/2022 11:57  eec8a486-7373-4d7d-a859-750455fd190c  80240150   \n",
       "2        3  13/05/2022 10:40  33bde395-65fa-43aa-bb9b-90b8e9e4bbba  82220416   \n",
       "3        4  16/08/2022 12:17  9f95c07d-d9e3-45d4-835e-a0dbc87d22ac  82220360   \n",
       "4        5  07/10/2022 09:52  6095ef93-3172-4a95-838e-5fa7f2ddb108  80230972   \n",
       "\n",
       "  estado      bairro    cidade                             rua  numero  \\\n",
       "0     PR   Boqueirão  Curitiba                   Rua São Pedro     821   \n",
       "1     PR  Água Verde  Curitiba                  Travessa Lange     211   \n",
       "2     PR   Cachoeira  Curitiba  Rua Rolando Salin Zappa Mansur     549   \n",
       "3     PR   Cachoeira  Curitiba                  Rua Maria Lenk     546   \n",
       "4     PR    Rebouças  Curitiba                 Rua João Negrão     353   \n",
       "\n",
       "                                            endereco  gender  age plataform  \\\n",
       "0  Rua São Pedro, 821 - Boqueirão, Curitiba - PR,...  Female   23       app   \n",
       "1  Travessa Lange, 211 - Água Verde, Curitiba - P...  Female   35   android   \n",
       "2  Rua Rolando Salin Zappa Mansur, 549 - Cachoeir...  Female   29   android   \n",
       "3  Rua Maria Lenk, 546 - Cachoeira, Curitiba - PR...    Male   21       ios   \n",
       "4  Rua João Negrão, 353 - Rebouças, Curitiba - PR...  Female   30    safari   \n",
       "\n",
       "     total       cupon  \n",
       "0   134.56        None  \n",
       "1  1242.82  VERAOOFF15  \n",
       "2  1118.59    FOX5POR3  \n",
       "3  1384.44        None  \n",
       "4    357.6        None  "
      ]
     },
     "execution_count": 5,
     "metadata": {},
     "output_type": "execute_result"
    }
   ],
   "source": [
    "df.head()"
   ]
  },
  {
   "cell_type": "code",
   "execution_count": 6,
   "metadata": {},
   "outputs": [
    {
     "data": {
      "text/html": [
       "<div>\n",
       "<style scoped>\n",
       "    .dataframe tbody tr th:only-of-type {\n",
       "        vertical-align: middle;\n",
       "    }\n",
       "\n",
       "    .dataframe tbody tr th {\n",
       "        vertical-align: top;\n",
       "    }\n",
       "\n",
       "    .dataframe thead th {\n",
       "        text-align: right;\n",
       "    }\n",
       "</style>\n",
       "<table border=\"1\" class=\"dataframe\">\n",
       "  <thead>\n",
       "    <tr style=\"text-align: right;\">\n",
       "      <th></th>\n",
       "      <th>orderID</th>\n",
       "      <th>CEP</th>\n",
       "      <th>numero</th>\n",
       "      <th>age</th>\n",
       "      <th>total</th>\n",
       "    </tr>\n",
       "  </thead>\n",
       "  <tbody>\n",
       "    <tr>\n",
       "      <th>count</th>\n",
       "      <td>5000.0</td>\n",
       "      <td>5000.0</td>\n",
       "      <td>5000.0</td>\n",
       "      <td>5000.0</td>\n",
       "      <td>5000.0</td>\n",
       "    </tr>\n",
       "    <tr>\n",
       "      <th>mean</th>\n",
       "      <td>2500.5</td>\n",
       "      <td>80799363.3262</td>\n",
       "      <td>559.264</td>\n",
       "      <td>29.8972</td>\n",
       "      <td>1055.309534</td>\n",
       "    </tr>\n",
       "    <tr>\n",
       "      <th>std</th>\n",
       "      <td>1443.520003</td>\n",
       "      <td>878357.46385</td>\n",
       "      <td>262.204273</td>\n",
       "      <td>6.020455</td>\n",
       "      <td>549.479098</td>\n",
       "    </tr>\n",
       "    <tr>\n",
       "      <th>min</th>\n",
       "      <td>1.0</td>\n",
       "      <td>80001970.0</td>\n",
       "      <td>100.0</td>\n",
       "      <td>20.0</td>\n",
       "      <td>100.85</td>\n",
       "    </tr>\n",
       "    <tr>\n",
       "      <th>25%</th>\n",
       "      <td>1250.75</td>\n",
       "      <td>80050260.0</td>\n",
       "      <td>329.0</td>\n",
       "      <td>25.0</td>\n",
       "      <td>578.8</td>\n",
       "    </tr>\n",
       "    <tr>\n",
       "      <th>50%</th>\n",
       "      <td>2500.5</td>\n",
       "      <td>80250903.0</td>\n",
       "      <td>567.0</td>\n",
       "      <td>30.0</td>\n",
       "      <td>1063.45</td>\n",
       "    </tr>\n",
       "    <tr>\n",
       "      <th>75%</th>\n",
       "      <td>3750.25</td>\n",
       "      <td>81650020.0</td>\n",
       "      <td>791.0</td>\n",
       "      <td>35.0</td>\n",
       "      <td>1526.195</td>\n",
       "    </tr>\n",
       "    <tr>\n",
       "      <th>max</th>\n",
       "      <td>5000.0</td>\n",
       "      <td>82560971.0</td>\n",
       "      <td>1000.0</td>\n",
       "      <td>40.0</td>\n",
       "      <td>1999.81</td>\n",
       "    </tr>\n",
       "  </tbody>\n",
       "</table>\n",
       "</div>"
      ],
      "text/plain": [
       "           orderID            CEP      numero       age        total\n",
       "count       5000.0         5000.0      5000.0    5000.0       5000.0\n",
       "mean        2500.5  80799363.3262     559.264   29.8972  1055.309534\n",
       "std    1443.520003   878357.46385  262.204273  6.020455   549.479098\n",
       "min            1.0     80001970.0       100.0      20.0       100.85\n",
       "25%        1250.75     80050260.0       329.0      25.0        578.8\n",
       "50%         2500.5     80250903.0       567.0      30.0      1063.45\n",
       "75%        3750.25     81650020.0       791.0      35.0     1526.195\n",
       "max         5000.0     82560971.0      1000.0      40.0      1999.81"
      ]
     },
     "execution_count": 6,
     "metadata": {},
     "output_type": "execute_result"
    }
   ],
   "source": [
    "# Check to see descriptive statistics\n",
    "df.describe()"
   ]
  },
  {
   "cell_type": "code",
   "execution_count": 7,
   "metadata": {},
   "outputs": [
    {
     "data": {
      "text/plain": [
       "Text(0.5, 1.0, 'Distribution of Gender')"
      ]
     },
     "execution_count": 7,
     "metadata": {},
     "output_type": "execute_result"
    },
    {
     "data": {
      "image/png": "[encoded data removed]",
      "text/plain": [
       "<Figure size 432x288 with 1 Axes>"
      ]
     },
     "metadata": {
      "needs_background": "light"
     },
     "output_type": "display_data"
    }
   ],
   "source": [
    "# See the distribution of gender to recognize different distributions\n",
    "sns.countplot(data=df, x='gender')\n",
    "plt.title('Distribution of Gender')"
   ]
  },
  {
   "cell_type": "code",
   "execution_count": 8,
   "metadata": {},
   "outputs": [
    {
     "data": {
      "text/plain": [
       "Text(0.5, 0, 'Age')"
      ]
     },
     "execution_count": 8,
     "metadata": {},
     "output_type": "execute_result"
    },
    {
     "data": {
      "image/png": "[encoded data removed]",
      "text/plain": [
       "<Figure size 432x288 with 1 Axes>"
      ]
     },
     "metadata": {
      "needs_background": "light"
     },
     "output_type": "display_data"
    }
   ],
   "source": [
    "# Histogram of ages\n",
    "df.hist('age', bins=25);\n",
    "plt.title('Distribution of Age');\n",
    "plt.xlabel('Age')"
   ]
  },
  {
   "cell_type": "code",
   "execution_count": 13,
   "metadata": {},
   "outputs": [
    {
     "data": {
      "text/plain": [
       "<matplotlib.legend.Legend at 0x2e68ca857b0>"
      ]
     },
     "execution_count": 13,
     "metadata": {},
     "output_type": "execute_result"
    },
    {
     "data": {
      "image/png": "[encoded data removed]",
      "text/plain": [
       "<Figure size 432x288 with 1 Axes>"
      ]
     },
     "metadata": {
      "needs_background": "light"
     },
     "output_type": "display_data"
    }
   ],
   "source": [
    "# Histogram of ages by gender\n",
    "plt.hist('age', data=df[df['gender'] == 'Male'], alpha=0.5, label='Male')\n",
    "plt.hist('age', data=df[df['gender'] == 'Female'], alpha=0.5, label='Female')\n",
    "plt.title('Distribution of Age by Gender')\n",
    "plt.xlabel('Age')\n",
    "plt.legend()"
   ]
  },
  {
   "cell_type": "code",
   "execution_count": 16,
   "metadata": {},
   "outputs": [
    {
     "data": {
      "text/plain": [
       "Text(0.5, 0, 'Total Spend by Transaction')"
      ]
     },
     "execution_count": 16,
     "metadata": {},
     "output_type": "execute_result"
    },
    {
     "data": {
      "image/png": "[encoded data removed]",
      "text/plain": [
       "<Figure size 432x288 with 1 Axes>"
      ]
     },
     "metadata": {
      "needs_background": "light"
     },
     "output_type": "display_data"
    }
   ],
   "source": [
    "# Histogram of income\n",
    "df.hist('total')\n",
    "plt.title('Total Income Distribution in Transactions')\n",
    "plt.xlabel('Total Spend by Transaction')"
   ]
  },
  {
   "cell_type": "code",
   "execution_count": 15,
   "metadata": {},
   "outputs": [
    {
     "data": {
      "image/png": "[encoded data removed]",
      "text/plain": [
       "<Figure size 432x288 with 1 Axes>"
      ]
     },
     "metadata": {
      "needs_background": "light"
     },
     "output_type": "display_data"
    }
   ],
   "source": [
    "# Histogram of income by gender\n",
    "plt.hist('total', data=df[df['gender'] == 'Male'], alpha=0.5, label='Male')\n",
    "plt.hist('total', data=df[df['gender'] == 'Female'], alpha=0.5, label='Female')\n",
    "plt.title('Distribution of Income by Gender')\n",
    "plt.xlabel('Income (Thousands of Dollars)')\n",
    "plt.legend()"
   ]
  },
  {
   "cell_type": "code",
   "execution_count": null,
   "metadata": {},
   "outputs": [],
   "source": [
    "# Create data sets by gender\n",
    "male_customers = df[df['gender'] == 'Male']\n",
    "female_customers = df[df['gender'] == 'Female']"
   ]
  }
 ],
 "metadata": {
  "kernelspec": {
   "display_name": "fulldata310",
   "language": "python",
   "name": "python3"
  },
  "language_info": {
   "codemirror_mode": {
    "name": "ipython",
    "version": 3
   },
   "file_extension": ".py",
   "mimetype": "text/x-python",
   "name": "python",
   "nbconvert_exporter": "python",
   "pygments_lexer": "ipython3",
   "version": "3.10.4"
  },
  "orig_nbformat": 4,
  "vscode": {
   "interpreter": {
    "hash": "d953a7648064bcd5ff9a7692a1584c007f35331fbb7aae73bda7c5ab2129929a"
   }
  }
 },
 "nbformat": 4,
 "nbformat_minor": 2
}
